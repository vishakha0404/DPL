{
 "cells": [
  {
   "cell_type": "markdown",
   "id": "f630cc13-047c-4ba6-8eca-e40b9f5bbfe0",
   "metadata": {},
   "source": [
    "Logic Gates using MP Neuron"
   ]
  },
  {
   "cell_type": "code",
   "execution_count": 1,
   "id": "d4b41b29-635d-43e6-abdf-594d120850c0",
   "metadata": {
    "tags": []
   },
   "outputs": [],
   "source": [
    "from tabulate import tabulate"
   ]
  },
  {
   "cell_type": "markdown",
   "id": "b9abf584-425a-44c8-874b-9affef4a96ac",
   "metadata": {},
   "source": [
    "OR Gate"
   ]
  },
  {
   "cell_type": "code",
   "execution_count": 2,
   "id": "ac890081-e26c-4b9c-abd0-fa933fc9bc98",
   "metadata": {
    "tags": []
   },
   "outputs": [
    {
     "name": "stdout",
     "output_type": "stream",
     "text": [
      "x1    x2    t     O\n",
      "0     0     1     0\n",
      "0     1     1     1\n",
      "1     0     1     1\n",
      "1     1     1     1\n"
     ]
    }
   ],
   "source": [
    "x1 = [0, 0, 1, 1]\n",
    "x2 = [0, 1, 0, 1]\n",
    "t = 1\n",
    "print(\"x1    x2    t     O\")\n",
    "for i in range(len(x1)):\n",
    "    if ( x1[i] + x2[i] ) >= t:\n",
    "        print(x1[i],'   ',x2[i],'   ',t ,'   ',1)\n",
    "    else:\n",
    "        print(x1[i],'   ',x2[i],'   ',t, '   ',0)"
   ]
  },
  {
   "cell_type": "markdown",
   "id": "c8056a15-d3f4-46aa-9d0a-3b546d9d8eea",
   "metadata": {},
   "source": [
    "AND Gate"
   ]
  },
  {
   "cell_type": "code",
   "execution_count": 28,
   "id": "35930bb8-e40d-48a6-ae0e-789541313d58",
   "metadata": {
    "tags": []
   },
   "outputs": [
    {
     "name": "stdout",
     "output_type": "stream",
     "text": [
      "x1    2     t     O\n",
      "0     0     2     0\n",
      "0     1     2     0\n",
      "1     0     2     0\n",
      "1     1     2     1\n"
     ]
    }
   ],
   "source": [
    "x1 = [0, 0, 1, 1]\n",
    "x2 = [0, 1, 0, 1]\n",
    "w1 = [1, 1, 1, 1]\n",
    "w2 = [1, 1, 1, 1]\n",
    "t = 2\n",
    "print(\"x1    2     t     O\")\n",
    "for i in range(len(x1)):\n",
    "    if ( x1[i] + x2[i] ) >= t:\n",
    "        print(x1[i],'   ',x2[i],'   ',t,'   ', 1)\n",
    "    else:\n",
    "        print(x1[i],'   ',x2[i],'   ',t,'   ', 0)\n",
    "        \n",
    "   \n",
    "\n"
   ]
  },
  {
   "cell_type": "markdown",
   "id": "fa68812a-cf49-4cc5-89c2-bac1d198f4ba",
   "metadata": {},
   "source": [
    "NOT Gate"
   ]
  },
  {
   "cell_type": "code",
   "execution_count": 31,
   "id": "9e2bf252-1d0d-4a2a-b8f9-3182cbba8bdd",
   "metadata": {
    "tags": []
   },
   "outputs": [
    {
     "name": "stdout",
     "output_type": "stream",
     "text": [
      "x     t     O\n",
      "0     0     1\n",
      "1     0     1\n"
     ]
    }
   ],
   "source": [
    "x = [0, 1]\n",
    "t = 0\n",
    "print(\"x     t     O\")\n",
    "for i in range(len(x)):\n",
    "    if ( x[i]) >= t:\n",
    "        print(x[i],'   ',t,'   ', 1)\n",
    "    else:\n",
    "        print(x[i],'   ',t,'   ', 0)"
   ]
  },
  {
   "cell_type": "markdown",
   "id": "2d7030d5-9792-439b-843a-034af464fc60",
   "metadata": {},
   "source": [
    "NOR Gate"
   ]
  },
  {
   "cell_type": "code",
   "execution_count": 42,
   "id": "cf934dbc-5b15-4ac2-b5e0-88c379f35720",
   "metadata": {
    "tags": []
   },
   "outputs": [
    {
     "name": "stdout",
     "output_type": "stream",
     "text": [
      "x1    x2    t     O\n",
      "0     0     0     1\n",
      "0     1     0     0\n",
      "1     0     0     0\n",
      "1     1     0     0\n"
     ]
    }
   ],
   "source": [
    "x1 = [0, 0, 1, 1]\n",
    "x2 = [0, 1, 0, 1]\n",
    "t = 0\n",
    "print(\"x1    x2    t     O\")\n",
    "for i in range(len(x1)):\n",
    "    if ( x1[i] + x2[i] ) <= t:\n",
    "        print(x1[i],'   ',x2[i],'   ',t,'   ', 1)\n",
    "    else:\n",
    "        print(x1[i],'   ',x2[i],'   ',t,'   ', 0)"
   ]
  },
  {
   "cell_type": "markdown",
   "id": "f6877538-bca0-480d-bd93-d08a46e42744",
   "metadata": {},
   "source": [
    "NAND Gate"
   ]
  },
  {
   "cell_type": "code",
   "execution_count": 65,
   "id": "b29dc67e-413d-458f-bbe1-62930b5720b3",
   "metadata": {
    "tags": []
   },
   "outputs": [
    {
     "name": "stdout",
     "output_type": "stream",
     "text": [
      "x1    x2    w1     w2      t     O\n",
      "0     0     -1     -1     -2     1\n",
      "0     1     -1     -1     -2     1\n",
      "1     0     -1     -1     -2     1\n",
      "1     1     -1     -1     -2     0\n"
     ]
    }
   ],
   "source": [
    "#inputs\n",
    "x1 = [0, 0, 1, 1]\n",
    "x2 = [0, 1, 0, 1]\n",
    "w1 = [-1, -1, -1, -1]\n",
    "w2 = [-1, -1, -1, -1]\n",
    "t = -2\n",
    "#output\n",
    "print(\"x1    x2    w1     w2      t     O\")\n",
    "for i in range(len(x1)):\n",
    "    if ( x1[i]*w1[i] + x2[i]*w2[i] ) > t:\n",
    "        print(x1[i],'   ',x2[i],'   ',w1[i],'   ',w2[i],'   ',t,'   ', 1)\n",
    "    else:\n",
    "        print(x1[i],'   ',x2[i],'   ',w1[i],'   ',w2[i],'   ',t,'   ', 0)"
   ]
  },
  {
   "cell_type": "code",
   "execution_count": null,
   "id": "790583ac-f048-46c1-be8b-70a959586022",
   "metadata": {},
   "outputs": [],
   "source": []
  }
 ],
 "metadata": {
  "kernelspec": {
   "display_name": "Python 3 (ipykernel)",
   "language": "python",
   "name": "python3"
  },
  "language_info": {
   "codemirror_mode": {
    "name": "ipython",
    "version": 3
   },
   "file_extension": ".py",
   "mimetype": "text/x-python",
   "name": "python",
   "nbconvert_exporter": "python",
   "pygments_lexer": "ipython3",
   "version": "3.11.5"
  }
 },
 "nbformat": 4,
 "nbformat_minor": 5
}
