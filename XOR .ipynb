{
 "cells": [
  {
   "cell_type": "code",
   "execution_count": 1,
   "id": "5bb53ef2-5bc4-4c5d-9038-aaff0b38bcb9",
   "metadata": {
    "tags": []
   },
   "outputs": [],
   "source": [
    "import pandas as pd\n",
    "import numpy as np"
   ]
  },
  {
   "cell_type": "code",
   "execution_count": 2,
   "id": "3b2ef616-ffaf-42bb-86bc-6d8eb3282163",
   "metadata": {
    "tags": []
   },
   "outputs": [],
   "source": [
    "# define Unit Step Function\n",
    "def unitStep(v):\n",
    "    if v >= 0:\n",
    "        return 1\n",
    "    else:\n",
    "        return 0"
   ]
  },
  {
   "cell_type": "code",
   "execution_count": 3,
   "id": "ca812aea-35c2-4c66-a2bf-593ec97f3ee2",
   "metadata": {
    "tags": []
   },
   "outputs": [],
   "source": [
    "# design Perceptron Model\n",
    "def perceptronModel(x, w, b):\n",
    "    v = np.dot(w, x) + b\n",
    "    y = unitStep(v)\n",
    "    return y\n"
   ]
  },
  {
   "cell_type": "code",
   "execution_count": 5,
   "id": "3cc6c642-50d0-465c-abec-66239e8da9d8",
   "metadata": {
    "tags": []
   },
   "outputs": [],
   "source": [
    "# NOT Logic Function\n",
    "def NOT_logicFunction(x):\n",
    "    wNOT = -1\n",
    "    bNOT = 0.5\n",
    "    return perceptronModel(x, wNOT, bNOT)"
   ]
  },
  {
   "cell_type": "code",
   "execution_count": 7,
   "id": "00f003fd-7164-4100-b3de-34c19ecb75aa",
   "metadata": {
    "tags": []
   },
   "outputs": [],
   "source": [
    "# AND Logic Function\n",
    "def AND_logicFunction(x):\n",
    "    w = np.array([1, 1])\n",
    "    bAND = -1.5\n",
    "    return perceptronModel(x, w, bAND)"
   ]
  },
  {
   "cell_type": "code",
   "execution_count": 8,
   "id": "132cfa53-ca41-401a-97a0-556eab8715f4",
   "metadata": {
    "tags": []
   },
   "outputs": [],
   "source": [
    "# OR Logic Function\n",
    "def OR_logicFunction(x):\n",
    "    w = np.array([1, 1])\n",
    "    bOR = -0.5\n",
    "    return perceptronModel(x, w, bOR)"
   ]
  },
  {
   "cell_type": "code",
   "execution_count": 9,
   "id": "e589cd1f-d9be-41cf-9eb5-a5f13f51c462",
   "metadata": {
    "tags": []
   },
   "outputs": [],
   "source": [
    "def XOR_logicFunction(x):\n",
    "    y1 = AND_logicFunction(x)\n",
    "    y2 = OR_logicFunction(x)\n",
    "    y3 = NOT_logicFunction(y1)\n",
    "    final_x = np.array([y2, y3])\n",
    "    finalOutput = AND_logicFunction(final_x)\n",
    "    return finalOutput\n",
    " "
   ]
  },
  {
   "cell_type": "code",
   "execution_count": 10,
   "id": "289a8e43-d7f9-4ed2-9760-6537c246987d",
   "metadata": {
    "tags": []
   },
   "outputs": [],
   "source": [
    "# testing the Perceptron Model\n",
    "test1 = np.array([0, 1])\n",
    "test2 = np.array([1, 1])\n",
    "test3 = np.array([0, 0])\n",
    "test4 = np.array([1, 0])"
   ]
  },
  {
   "cell_type": "code",
   "execution_count": 11,
   "id": "5ffe08bb-7624-435d-a7c2-e36e457fcd6a",
   "metadata": {
    "tags": []
   },
   "outputs": [
    {
     "name": "stdout",
     "output_type": "stream",
     "text": [
      "XOR(0, 1) = 1\n",
      "XOR(1, 1) = 0\n",
      "XOR(0, 0) = 0\n",
      "XOR(1, 0) = 1\n"
     ]
    }
   ],
   "source": [
    "print(\"XOR({}, {}) = {}\".format(0, 1, XOR_logicFunction(test1)))\n",
    "print(\"XOR({}, {}) = {}\".format(1, 1, XOR_logicFunction(test2)))\n",
    "print(\"XOR({}, {}) = {}\".format(0, 0, XOR_logicFunction(test3)))\n",
    "print(\"XOR({}, {}) = {}\".format(1, 0, XOR_logicFunction(test4)))"
   ]
  },
  {
   "cell_type": "code",
   "execution_count": null,
   "id": "dc59ab63-9a93-48f3-9f63-95dfb067d539",
   "metadata": {},
   "outputs": [],
   "source": []
  }
 ],
 "metadata": {
  "kernelspec": {
   "display_name": "Python 3 (ipykernel)",
   "language": "python",
   "name": "python3"
  },
  "language_info": {
   "codemirror_mode": {
    "name": "ipython",
    "version": 3
   },
   "file_extension": ".py",
   "mimetype": "text/x-python",
   "name": "python",
   "nbconvert_exporter": "python",
   "pygments_lexer": "ipython3",
   "version": "3.11.5"
  }
 },
 "nbformat": 4,
 "nbformat_minor": 5
}
